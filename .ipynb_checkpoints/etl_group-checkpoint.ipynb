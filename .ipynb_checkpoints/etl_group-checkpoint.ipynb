{
 "cells": [
  {
   "cell_type": "code",
   "execution_count": 61,
   "metadata": {},
   "outputs": [],
   "source": [
    "import pandas as pd\n",
    "from sqlalchemy import create_engine\n",
    "import numpy as np\n",
    "import config"
   ]
  },
  {
   "cell_type": "code",
   "execution_count": null,
   "metadata": {},
   "outputs": [],
   "source": [
    "# HEATHER\n",
    "\n",
    "## Heather's Code\n",
    "# Import CSV\n",
    "fleet_csv = \"./Resources/Fleet Data.csv\"\n",
    "fleet_df = pd.read_csv(fleet_csv)\n",
    "\n",
    "# Dropping unnecessary columns, set the index \n",
    "cleaned_fleet = fleet_df.drop(columns=[\"Aircraft Type\",\"Future\",\"Historic\",\"Total\",\"Orders\",\"Unit Cost\",\"Average Age\"]).fillna(value=0)\n",
    "cleaned_fleet_df = cleaned_fleet.set_index([\"Parent Airline\"]+[\"Airline\"])\n",
    "\n",
    "# Remove ',','$' and blank values\n",
    "cleaned_fleet_df[\"Total Cost (Current)\"] = cleaned_fleet_df[\"Total Cost (Current)\"].str.replace(',', '')\n",
    "cleaned_fleet_df[\"Total Cost (Current)\"] = cleaned_fleet_df[\"Total Cost (Current)\"].str.replace('$', '')\n",
    "cleaned_fleet_df = cleaned_fleet_df.dropna()\n",
    "\n",
    "# Set the objects to integer\n",
    "cleaned_fleet_df[\"Total Cost (Current)\"] = cleaned_fleet_df[\"Total Cost (Current)\"].astype(str).astype(int)\n",
    "\n",
    "# Aggregate Columns to Sum\n",
    "agg_fleet_df = cleaned_fleet_df.groupby([\"Parent Airline\",\"Airline\"]).agg({\"Current\":\"sum\",\n",
    "                                                                           \"Total Cost (Current)\":\"sum\"})\n",
    "agg_fleet_df"
   ]
  },
  {
   "cell_type": "code",
   "execution_count": null,
   "metadata": {},
   "outputs": [],
   "source": [
    "## Michael's code\n",
    "# Import CSV\n",
    "airline_csv = \"./Resources/Largest Airlines 2015 with Origin or Destination in USA.csv\"\n",
    "airline_df = pd.read_csv(airline_csv)\n",
    "airline_df.columns\n",
    "\n",
    "# Clean up the columns\n",
    "cleaned_airline = airline_df.drop(columns=[\" FREIGHT \",\" MAIL \"])\n",
    "cleaned_airline_df = cleaned_airline.rename(columns={\" PASSENGERS \":\"Passengers\",\n",
    "                                                     \" Passenger Miles \":\"Passenger Miles\",\n",
    "                                                     \"CARRIER_NAME\":\"Parent Airline\"})\n",
    "# Remove ','\n",
    "cleaned_airline_df[\"Passengers\"] = cleaned_airline_df[\"Passengers\"].str.replace(',', '')\n",
    "cleaned_airline_df[\"Passenger Miles\"] = cleaned_airline_df[\"Passenger Miles\"].str.replace(',', '')\n",
    "\n",
    "# Set the objects to integer\n",
    "cleaned_airline_df[\"Passengers\"] = cleaned_airline_df[\"Passengers\"].astype(str).astype(np.int64)\n",
    "cleaned_airline_df[\"Passenger Miles\"] = cleaned_airline_df[\"Passenger Miles\"].astype(str).astype(np.int64)\n",
    "\n",
    "cleaned_airline_df"
   ]
  },
  {
   "cell_type": "code",
   "execution_count": 62,
   "metadata": {},
   "outputs": [
    {
     "data": {
      "text/html": [
       "<div>\n",
       "<style scoped>\n",
       "    .dataframe tbody tr th:only-of-type {\n",
       "        vertical-align: middle;\n",
       "    }\n",
       "\n",
       "    .dataframe tbody tr th {\n",
       "        vertical-align: top;\n",
       "    }\n",
       "\n",
       "    .dataframe thead th {\n",
       "        text-align: right;\n",
       "    }\n",
       "</style>\n",
       "<table border=\"1\" class=\"dataframe\">\n",
       "  <thead>\n",
       "    <tr style=\"text-align: right;\">\n",
       "      <th></th>\n",
       "      <th>Parent Airline</th>\n",
       "      <th>Airline</th>\n",
       "      <th>Aircraft Type</th>\n",
       "      <th>Current</th>\n",
       "      <th>Future</th>\n",
       "      <th>Historic</th>\n",
       "      <th>Total</th>\n",
       "      <th>Orders</th>\n",
       "      <th>Unit Cost</th>\n",
       "      <th>Total Cost (Current)</th>\n",
       "      <th>Average Age</th>\n",
       "    </tr>\n",
       "  </thead>\n",
       "  <tbody>\n",
       "    <tr>\n",
       "      <th>0</th>\n",
       "      <td>Aegean Airlines</td>\n",
       "      <td>Aegean Airlines</td>\n",
       "      <td>Airbus A319</td>\n",
       "      <td>1.0</td>\n",
       "      <td>NaN</td>\n",
       "      <td>3.0</td>\n",
       "      <td>4.0</td>\n",
       "      <td>NaN</td>\n",
       "      <td>$90</td>\n",
       "      <td>$90</td>\n",
       "      <td>11.6</td>\n",
       "    </tr>\n",
       "    <tr>\n",
       "      <th>1</th>\n",
       "      <td>Aegean Airlines</td>\n",
       "      <td>Olympic Air</td>\n",
       "      <td>Airbus A319</td>\n",
       "      <td>NaN</td>\n",
       "      <td>NaN</td>\n",
       "      <td>8.0</td>\n",
       "      <td>8.0</td>\n",
       "      <td>NaN</td>\n",
       "      <td>$90</td>\n",
       "      <td>$0</td>\n",
       "      <td>NaN</td>\n",
       "    </tr>\n",
       "    <tr>\n",
       "      <th>2</th>\n",
       "      <td>Aegean Airlines</td>\n",
       "      <td>Aegean Airlines</td>\n",
       "      <td>Airbus A320</td>\n",
       "      <td>38.0</td>\n",
       "      <td>NaN</td>\n",
       "      <td>3.0</td>\n",
       "      <td>41.0</td>\n",
       "      <td>NaN</td>\n",
       "      <td>$98</td>\n",
       "      <td>$3,724</td>\n",
       "      <td>7.5</td>\n",
       "    </tr>\n",
       "    <tr>\n",
       "      <th>3</th>\n",
       "      <td>Aegean Airlines</td>\n",
       "      <td>Olympic Air</td>\n",
       "      <td>Airbus A320</td>\n",
       "      <td>NaN</td>\n",
       "      <td>NaN</td>\n",
       "      <td>9.0</td>\n",
       "      <td>9.0</td>\n",
       "      <td>NaN</td>\n",
       "      <td>$98</td>\n",
       "      <td>$0</td>\n",
       "      <td>NaN</td>\n",
       "    </tr>\n",
       "    <tr>\n",
       "      <th>4</th>\n",
       "      <td>Aegean Airlines</td>\n",
       "      <td>Aegean Airlines</td>\n",
       "      <td>Airbus A321</td>\n",
       "      <td>8.0</td>\n",
       "      <td>NaN</td>\n",
       "      <td>NaN</td>\n",
       "      <td>8.0</td>\n",
       "      <td>NaN</td>\n",
       "      <td>$115</td>\n",
       "      <td>$919</td>\n",
       "      <td>10.3</td>\n",
       "    </tr>\n",
       "  </tbody>\n",
       "</table>\n",
       "</div>"
      ],
      "text/plain": [
       "    Parent Airline          Airline Aircraft Type  Current  Future  Historic  \\\n",
       "0  Aegean Airlines  Aegean Airlines   Airbus A319      1.0     NaN       3.0   \n",
       "1  Aegean Airlines      Olympic Air   Airbus A319      NaN     NaN       8.0   \n",
       "2  Aegean Airlines  Aegean Airlines   Airbus A320     38.0     NaN       3.0   \n",
       "3  Aegean Airlines      Olympic Air   Airbus A320      NaN     NaN       9.0   \n",
       "4  Aegean Airlines  Aegean Airlines   Airbus A321      8.0     NaN       NaN   \n",
       "\n",
       "   Total  Orders Unit Cost Total Cost (Current)  Average Age  \n",
       "0    4.0     NaN       $90                  $90         11.6  \n",
       "1    8.0     NaN       $90                   $0          NaN  \n",
       "2   41.0     NaN       $98               $3,724          7.5  \n",
       "3    9.0     NaN       $98                   $0          NaN  \n",
       "4    8.0     NaN      $115                 $919         10.3  "
      ]
     },
     "execution_count": 62,
     "metadata": {},
     "output_type": "execute_result"
    }
   ],
   "source": [
    "# MICHAEL\n",
    "\n",
    "csv_file = \"Resources/Fleet Data.csv\"\n",
    "fleet_data_df = pd.read_csv(csv_file)\n",
    "fleet_data_df.head()"
   ]
  },
  {
   "cell_type": "code",
   "execution_count": 63,
   "metadata": {},
   "outputs": [
    {
     "data": {
      "text/plain": [
       "Index(['Parent Airline', 'Airline', 'Aircraft Type', 'Current', 'Future',\n",
       "       'Historic', 'Total', 'Orders', 'Unit Cost', 'Total Cost (Current)',\n",
       "       'Average Age'],\n",
       "      dtype='object')"
      ]
     },
     "execution_count": 63,
     "metadata": {},
     "output_type": "execute_result"
    }
   ],
   "source": [
    "fleet_data_df.columns"
   ]
  },
  {
   "cell_type": "code",
   "execution_count": 64,
   "metadata": {},
   "outputs": [
    {
     "data": {
      "text/html": [
       "<div>\n",
       "<style scoped>\n",
       "    .dataframe tbody tr th:only-of-type {\n",
       "        vertical-align: middle;\n",
       "    }\n",
       "\n",
       "    .dataframe tbody tr th {\n",
       "        vertical-align: top;\n",
       "    }\n",
       "\n",
       "    .dataframe thead th {\n",
       "        text-align: right;\n",
       "    }\n",
       "</style>\n",
       "<table border=\"1\" class=\"dataframe\">\n",
       "  <thead>\n",
       "    <tr style=\"text-align: right;\">\n",
       "      <th></th>\n",
       "      <th>PASSENGERS</th>\n",
       "      <th>FREIGHT</th>\n",
       "      <th>MAIL</th>\n",
       "      <th>Passenger Miles</th>\n",
       "      <th>CARRIER_NAME</th>\n",
       "    </tr>\n",
       "  </thead>\n",
       "  <tbody>\n",
       "    <tr>\n",
       "      <th>0</th>\n",
       "      <td>144,637,180</td>\n",
       "      <td>289,611,118</td>\n",
       "      <td>-</td>\n",
       "      <td>116,627,136,731</td>\n",
       "      <td>Southwest Airlines Co. Total</td>\n",
       "    </tr>\n",
       "    <tr>\n",
       "      <th>1</th>\n",
       "      <td>137,916,298</td>\n",
       "      <td>975,245,401</td>\n",
       "      <td>240,169,831</td>\n",
       "      <td>186,140,690,281</td>\n",
       "      <td>Delta Air Lines Inc. Total</td>\n",
       "    </tr>\n",
       "    <tr>\n",
       "      <th>2</th>\n",
       "      <td>118,541,411</td>\n",
       "      <td>987,757,310</td>\n",
       "      <td>153,541,964</td>\n",
       "      <td>166,869,071,222</td>\n",
       "      <td>American Airlines Inc. Total</td>\n",
       "    </tr>\n",
       "    <tr>\n",
       "      <th>3</th>\n",
       "      <td>95,028,877</td>\n",
       "      <td>968,514,741</td>\n",
       "      <td>356,224,690</td>\n",
       "      <td>182,508,547,016</td>\n",
       "      <td>United Air Lines Inc. Total</td>\n",
       "    </tr>\n",
       "    <tr>\n",
       "      <th>4</th>\n",
       "      <td>35,130,683</td>\n",
       "      <td>26,557,394</td>\n",
       "      <td>-</td>\n",
       "      <td>41,726,258,863</td>\n",
       "      <td>JetBlue Airways Total</td>\n",
       "    </tr>\n",
       "  </tbody>\n",
       "</table>\n",
       "</div>"
      ],
      "text/plain": [
       "     PASSENGERS        FREIGHT           MAIL    Passenger Miles   \\\n",
       "0   144,637,180    289,611,118            -      116,627,136,731    \n",
       "1   137,916,298    975,245,401    240,169,831    186,140,690,281    \n",
       "2   118,541,411    987,757,310    153,541,964    166,869,071,222    \n",
       "3    95,028,877    968,514,741    356,224,690    182,508,547,016    \n",
       "4    35,130,683     26,557,394            -       41,726,258,863    \n",
       "\n",
       "                   CARRIER_NAME  \n",
       "0  Southwest Airlines Co. Total  \n",
       "1    Delta Air Lines Inc. Total  \n",
       "2  American Airlines Inc. Total  \n",
       "3   United Air Lines Inc. Total  \n",
       "4         JetBlue Airways Total  "
      ]
     },
     "execution_count": 64,
     "metadata": {},
     "output_type": "execute_result"
    }
   ],
   "source": [
    "csv_file = \"Resources/Largest Airlines 2015 with Origin or Destination in USA.csv\"\n",
    "passenger_data_df = pd.read_csv(csv_file)\n",
    "passenger_data_df.head()"
   ]
  },
  {
   "cell_type": "code",
   "execution_count": 65,
   "metadata": {},
   "outputs": [
    {
     "data": {
      "text/plain": [
       "Index([' PASSENGERS ', ' FREIGHT ', ' MAIL ', ' Passenger Miles ',\n",
       "       'CARRIER_NAME'],\n",
       "      dtype='object')"
      ]
     },
     "execution_count": 65,
     "metadata": {},
     "output_type": "execute_result"
    }
   ],
   "source": [
    "passenger_data_df.columns"
   ]
  },
  {
   "cell_type": "code",
   "execution_count": 84,
   "metadata": {
    "scrolled": true
   },
   "outputs": [
    {
     "data": {
      "text/html": [
       "<div>\n",
       "<style scoped>\n",
       "    .dataframe tbody tr th:only-of-type {\n",
       "        vertical-align: middle;\n",
       "    }\n",
       "\n",
       "    .dataframe tbody tr th {\n",
       "        vertical-align: top;\n",
       "    }\n",
       "\n",
       "    .dataframe thead th {\n",
       "        text-align: right;\n",
       "    }\n",
       "</style>\n",
       "<table border=\"1\" class=\"dataframe\">\n",
       "  <thead>\n",
       "    <tr style=\"text-align: right;\">\n",
       "      <th></th>\n",
       "      <th>Parent Airline</th>\n",
       "      <th>Airline</th>\n",
       "      <th>Aircraft Type</th>\n",
       "      <th>Current</th>\n",
       "      <th>Unit Cost</th>\n",
       "      <th>Total Cost (Current)</th>\n",
       "    </tr>\n",
       "  </thead>\n",
       "  <tbody>\n",
       "    <tr>\n",
       "      <th>0</th>\n",
       "      <td>Aegean Airlines</td>\n",
       "      <td>Aegean Airlines</td>\n",
       "      <td>Airbus A319</td>\n",
       "      <td>1.0</td>\n",
       "      <td>$90</td>\n",
       "      <td>$90</td>\n",
       "    </tr>\n",
       "    <tr>\n",
       "      <th>1</th>\n",
       "      <td>Aegean Airlines</td>\n",
       "      <td>Olympic Air</td>\n",
       "      <td>Airbus A319</td>\n",
       "      <td>NaN</td>\n",
       "      <td>$90</td>\n",
       "      <td>$0</td>\n",
       "    </tr>\n",
       "    <tr>\n",
       "      <th>2</th>\n",
       "      <td>Aegean Airlines</td>\n",
       "      <td>Aegean Airlines</td>\n",
       "      <td>Airbus A320</td>\n",
       "      <td>38.0</td>\n",
       "      <td>$98</td>\n",
       "      <td>$3,724</td>\n",
       "    </tr>\n",
       "    <tr>\n",
       "      <th>3</th>\n",
       "      <td>Aegean Airlines</td>\n",
       "      <td>Olympic Air</td>\n",
       "      <td>Airbus A320</td>\n",
       "      <td>NaN</td>\n",
       "      <td>$98</td>\n",
       "      <td>$0</td>\n",
       "    </tr>\n",
       "    <tr>\n",
       "      <th>4</th>\n",
       "      <td>Aegean Airlines</td>\n",
       "      <td>Aegean Airlines</td>\n",
       "      <td>Airbus A321</td>\n",
       "      <td>8.0</td>\n",
       "      <td>$115</td>\n",
       "      <td>$919</td>\n",
       "    </tr>\n",
       "  </tbody>\n",
       "</table>\n",
       "</div>"
      ],
      "text/plain": [
       "    Parent Airline          Airline Aircraft Type  Current Unit Cost  \\\n",
       "0  Aegean Airlines  Aegean Airlines   Airbus A319      1.0       $90   \n",
       "1  Aegean Airlines      Olympic Air   Airbus A319      NaN       $90   \n",
       "2  Aegean Airlines  Aegean Airlines   Airbus A320     38.0       $98   \n",
       "3  Aegean Airlines      Olympic Air   Airbus A320      NaN       $98   \n",
       "4  Aegean Airlines  Aegean Airlines   Airbus A321      8.0      $115   \n",
       "\n",
       "  Total Cost (Current)  \n",
       "0                  $90  \n",
       "1                   $0  \n",
       "2               $3,724  \n",
       "3                   $0  \n",
       "4                 $919  "
      ]
     },
     "execution_count": 84,
     "metadata": {},
     "output_type": "execute_result"
    }
   ],
   "source": [
    "clean_fleet_data_df = fleet_data_df[['Parent Airline', 'Airline', 'Aircraft Type', 'Current', 'Unit Cost', 'Total Cost (Current)']].copy()\n",
    "clean_fleet_data_df.head()"
   ]
  },
  {
   "cell_type": "code",
   "execution_count": 86,
   "metadata": {},
   "outputs": [
    {
     "data": {
      "text/html": [
       "<div>\n",
       "<style scoped>\n",
       "    .dataframe tbody tr th:only-of-type {\n",
       "        vertical-align: middle;\n",
       "    }\n",
       "\n",
       "    .dataframe tbody tr th {\n",
       "        vertical-align: top;\n",
       "    }\n",
       "\n",
       "    .dataframe thead th {\n",
       "        text-align: right;\n",
       "    }\n",
       "</style>\n",
       "<table border=\"1\" class=\"dataframe\">\n",
       "  <thead>\n",
       "    <tr style=\"text-align: right;\">\n",
       "      <th></th>\n",
       "      <th>Parent Airline</th>\n",
       "      <th>Airline</th>\n",
       "      <th>Aircraft Type</th>\n",
       "      <th>Current</th>\n",
       "      <th>Unit Cost</th>\n",
       "      <th>Total Cost</th>\n",
       "    </tr>\n",
       "  </thead>\n",
       "  <tbody>\n",
       "    <tr>\n",
       "      <th>0</th>\n",
       "      <td>Aegean Airlines</td>\n",
       "      <td>Aegean Airlines</td>\n",
       "      <td>Airbus A319</td>\n",
       "      <td>1.0</td>\n",
       "      <td>$90</td>\n",
       "      <td>$90</td>\n",
       "    </tr>\n",
       "    <tr>\n",
       "      <th>1</th>\n",
       "      <td>Aegean Airlines</td>\n",
       "      <td>Olympic Air</td>\n",
       "      <td>Airbus A319</td>\n",
       "      <td>NaN</td>\n",
       "      <td>$90</td>\n",
       "      <td>$0</td>\n",
       "    </tr>\n",
       "    <tr>\n",
       "      <th>2</th>\n",
       "      <td>Aegean Airlines</td>\n",
       "      <td>Aegean Airlines</td>\n",
       "      <td>Airbus A320</td>\n",
       "      <td>38.0</td>\n",
       "      <td>$98</td>\n",
       "      <td>$3,724</td>\n",
       "    </tr>\n",
       "    <tr>\n",
       "      <th>3</th>\n",
       "      <td>Aegean Airlines</td>\n",
       "      <td>Olympic Air</td>\n",
       "      <td>Airbus A320</td>\n",
       "      <td>NaN</td>\n",
       "      <td>$98</td>\n",
       "      <td>$0</td>\n",
       "    </tr>\n",
       "    <tr>\n",
       "      <th>4</th>\n",
       "      <td>Aegean Airlines</td>\n",
       "      <td>Aegean Airlines</td>\n",
       "      <td>Airbus A321</td>\n",
       "      <td>8.0</td>\n",
       "      <td>$115</td>\n",
       "      <td>$919</td>\n",
       "    </tr>\n",
       "  </tbody>\n",
       "</table>\n",
       "</div>"
      ],
      "text/plain": [
       "    Parent Airline          Airline Aircraft Type  Current Unit Cost  \\\n",
       "0  Aegean Airlines  Aegean Airlines   Airbus A319      1.0       $90   \n",
       "1  Aegean Airlines      Olympic Air   Airbus A319      NaN       $90   \n",
       "2  Aegean Airlines  Aegean Airlines   Airbus A320     38.0       $98   \n",
       "3  Aegean Airlines      Olympic Air   Airbus A320      NaN       $98   \n",
       "4  Aegean Airlines  Aegean Airlines   Airbus A321      8.0      $115   \n",
       "\n",
       "  Total Cost  \n",
       "0        $90  \n",
       "1         $0  \n",
       "2     $3,724  \n",
       "3         $0  \n",
       "4       $919  "
      ]
     },
     "execution_count": 86,
     "metadata": {},
     "output_type": "execute_result"
    }
   ],
   "source": [
    "clean_fleet_data_df = clean_fleet_data_df.rename(columns={'Total Cost (Current)': 'Total Cost'})\n",
    "clean_fleet_data_df.head()"
   ]
  },
  {
   "cell_type": "code",
   "execution_count": 67,
   "metadata": {
    "scrolled": true
   },
   "outputs": [
    {
     "data": {
      "text/html": [
       "<div>\n",
       "<style scoped>\n",
       "    .dataframe tbody tr th:only-of-type {\n",
       "        vertical-align: middle;\n",
       "    }\n",
       "\n",
       "    .dataframe tbody tr th {\n",
       "        vertical-align: top;\n",
       "    }\n",
       "\n",
       "    .dataframe thead th {\n",
       "        text-align: right;\n",
       "    }\n",
       "</style>\n",
       "<table border=\"1\" class=\"dataframe\">\n",
       "  <thead>\n",
       "    <tr style=\"text-align: right;\">\n",
       "      <th></th>\n",
       "      <th>PASSENGERS</th>\n",
       "      <th>Passenger Miles</th>\n",
       "      <th>CARRIER_NAME</th>\n",
       "    </tr>\n",
       "  </thead>\n",
       "  <tbody>\n",
       "    <tr>\n",
       "      <th>0</th>\n",
       "      <td>144,637,180</td>\n",
       "      <td>116,627,136,731</td>\n",
       "      <td>Southwest Airlines Co. Total</td>\n",
       "    </tr>\n",
       "    <tr>\n",
       "      <th>1</th>\n",
       "      <td>137,916,298</td>\n",
       "      <td>186,140,690,281</td>\n",
       "      <td>Delta Air Lines Inc. Total</td>\n",
       "    </tr>\n",
       "    <tr>\n",
       "      <th>2</th>\n",
       "      <td>118,541,411</td>\n",
       "      <td>166,869,071,222</td>\n",
       "      <td>American Airlines Inc. Total</td>\n",
       "    </tr>\n",
       "    <tr>\n",
       "      <th>3</th>\n",
       "      <td>95,028,877</td>\n",
       "      <td>182,508,547,016</td>\n",
       "      <td>United Air Lines Inc. Total</td>\n",
       "    </tr>\n",
       "    <tr>\n",
       "      <th>4</th>\n",
       "      <td>35,130,683</td>\n",
       "      <td>41,726,258,863</td>\n",
       "      <td>JetBlue Airways Total</td>\n",
       "    </tr>\n",
       "  </tbody>\n",
       "</table>\n",
       "</div>"
      ],
      "text/plain": [
       "     PASSENGERS    Passenger Miles                   CARRIER_NAME\n",
       "0   144,637,180    116,627,136,731   Southwest Airlines Co. Total\n",
       "1   137,916,298    186,140,690,281     Delta Air Lines Inc. Total\n",
       "2   118,541,411    166,869,071,222   American Airlines Inc. Total\n",
       "3    95,028,877    182,508,547,016    United Air Lines Inc. Total\n",
       "4    35,130,683     41,726,258,863          JetBlue Airways Total"
      ]
     },
     "execution_count": 67,
     "metadata": {},
     "output_type": "execute_result"
    }
   ],
   "source": [
    "clean_passenger_data_df = passenger_data_df[[' PASSENGERS ', ' Passenger Miles ', 'CARRIER_NAME']].copy()\n",
    "clean_passenger_data_df.head()"
   ]
  },
  {
   "cell_type": "code",
   "execution_count": 68,
   "metadata": {
    "scrolled": false
   },
   "outputs": [
    {
     "data": {
      "text/html": [
       "<div>\n",
       "<style scoped>\n",
       "    .dataframe tbody tr th:only-of-type {\n",
       "        vertical-align: middle;\n",
       "    }\n",
       "\n",
       "    .dataframe tbody tr th {\n",
       "        vertical-align: top;\n",
       "    }\n",
       "\n",
       "    .dataframe thead th {\n",
       "        text-align: right;\n",
       "    }\n",
       "</style>\n",
       "<table border=\"1\" class=\"dataframe\">\n",
       "  <thead>\n",
       "    <tr style=\"text-align: right;\">\n",
       "      <th></th>\n",
       "      <th>Passengers</th>\n",
       "      <th>Passenger Miles</th>\n",
       "      <th>Parent Airline</th>\n",
       "    </tr>\n",
       "  </thead>\n",
       "  <tbody>\n",
       "    <tr>\n",
       "      <th>0</th>\n",
       "      <td>144,637,180</td>\n",
       "      <td>116,627,136,731</td>\n",
       "      <td>Southwest Airlines Co. Total</td>\n",
       "    </tr>\n",
       "    <tr>\n",
       "      <th>1</th>\n",
       "      <td>137,916,298</td>\n",
       "      <td>186,140,690,281</td>\n",
       "      <td>Delta Air Lines Inc. Total</td>\n",
       "    </tr>\n",
       "    <tr>\n",
       "      <th>2</th>\n",
       "      <td>118,541,411</td>\n",
       "      <td>166,869,071,222</td>\n",
       "      <td>American Airlines Inc. Total</td>\n",
       "    </tr>\n",
       "    <tr>\n",
       "      <th>3</th>\n",
       "      <td>95,028,877</td>\n",
       "      <td>182,508,547,016</td>\n",
       "      <td>United Air Lines Inc. Total</td>\n",
       "    </tr>\n",
       "    <tr>\n",
       "      <th>4</th>\n",
       "      <td>35,130,683</td>\n",
       "      <td>41,726,258,863</td>\n",
       "      <td>JetBlue Airways Total</td>\n",
       "    </tr>\n",
       "  </tbody>\n",
       "</table>\n",
       "</div>"
      ],
      "text/plain": [
       "      Passengers    Passenger Miles                Parent Airline\n",
       "0   144,637,180    116,627,136,731   Southwest Airlines Co. Total\n",
       "1   137,916,298    186,140,690,281     Delta Air Lines Inc. Total\n",
       "2   118,541,411    166,869,071,222   American Airlines Inc. Total\n",
       "3    95,028,877    182,508,547,016    United Air Lines Inc. Total\n",
       "4    35,130,683     41,726,258,863          JetBlue Airways Total"
      ]
     },
     "execution_count": 68,
     "metadata": {},
     "output_type": "execute_result"
    }
   ],
   "source": [
    "clean_passenger_data_df = clean_passenger_data_df.rename(columns={' PASSENGERS ': 'Passengers',\n",
    "                                                         ' Passenger Miles ': 'Passenger Miles',\n",
    "                                                         'CARRIER_NAME': 'Parent Airline'})\n",
    "clean_passenger_data_df.head()"
   ]
  },
  {
   "cell_type": "code",
   "execution_count": 69,
   "metadata": {
    "scrolled": false
   },
   "outputs": [
    {
     "data": {
      "text/plain": [
       "Passengers         object\n",
       "Passenger Miles    object\n",
       "Parent Airline     object\n",
       "dtype: object"
      ]
     },
     "execution_count": 69,
     "metadata": {},
     "output_type": "execute_result"
    }
   ],
   "source": [
    "clean_passenger_data_df.dtypes"
   ]
  },
  {
   "cell_type": "code",
   "execution_count": 70,
   "metadata": {},
   "outputs": [],
   "source": [
    "clean_passenger_data_df['Passengers'] = clean_passenger_data_df['Passengers'].str.strip()"
   ]
  },
  {
   "cell_type": "code",
   "execution_count": 71,
   "metadata": {
    "scrolled": true
   },
   "outputs": [
    {
     "data": {
      "text/html": [
       "<div>\n",
       "<style scoped>\n",
       "    .dataframe tbody tr th:only-of-type {\n",
       "        vertical-align: middle;\n",
       "    }\n",
       "\n",
       "    .dataframe tbody tr th {\n",
       "        vertical-align: top;\n",
       "    }\n",
       "\n",
       "    .dataframe thead th {\n",
       "        text-align: right;\n",
       "    }\n",
       "</style>\n",
       "<table border=\"1\" class=\"dataframe\">\n",
       "  <thead>\n",
       "    <tr style=\"text-align: right;\">\n",
       "      <th></th>\n",
       "      <th>Passengers</th>\n",
       "      <th>Passenger Miles</th>\n",
       "      <th>Parent Airline</th>\n",
       "    </tr>\n",
       "  </thead>\n",
       "  <tbody>\n",
       "    <tr>\n",
       "      <th>0</th>\n",
       "      <td>144,637,180</td>\n",
       "      <td>116,627,136,731</td>\n",
       "      <td>Southwest Airlines Co. Total</td>\n",
       "    </tr>\n",
       "    <tr>\n",
       "      <th>1</th>\n",
       "      <td>137,916,298</td>\n",
       "      <td>186,140,690,281</td>\n",
       "      <td>Delta Air Lines Inc. Total</td>\n",
       "    </tr>\n",
       "    <tr>\n",
       "      <th>2</th>\n",
       "      <td>118,541,411</td>\n",
       "      <td>166,869,071,222</td>\n",
       "      <td>American Airlines Inc. Total</td>\n",
       "    </tr>\n",
       "    <tr>\n",
       "      <th>3</th>\n",
       "      <td>95,028,877</td>\n",
       "      <td>182,508,547,016</td>\n",
       "      <td>United Air Lines Inc. Total</td>\n",
       "    </tr>\n",
       "    <tr>\n",
       "      <th>4</th>\n",
       "      <td>35,130,683</td>\n",
       "      <td>41,726,258,863</td>\n",
       "      <td>JetBlue Airways Total</td>\n",
       "    </tr>\n",
       "  </tbody>\n",
       "</table>\n",
       "</div>"
      ],
      "text/plain": [
       "    Passengers    Passenger Miles                Parent Airline\n",
       "0  144,637,180   116,627,136,731   Southwest Airlines Co. Total\n",
       "1  137,916,298   186,140,690,281     Delta Air Lines Inc. Total\n",
       "2  118,541,411   166,869,071,222   American Airlines Inc. Total\n",
       "3   95,028,877   182,508,547,016    United Air Lines Inc. Total\n",
       "4   35,130,683    41,726,258,863          JetBlue Airways Total"
      ]
     },
     "execution_count": 71,
     "metadata": {},
     "output_type": "execute_result"
    }
   ],
   "source": [
    "clean_passenger_data_df.head()"
   ]
  },
  {
   "cell_type": "code",
   "execution_count": 72,
   "metadata": {
    "scrolled": true
   },
   "outputs": [
    {
     "data": {
      "text/html": [
       "<div>\n",
       "<style scoped>\n",
       "    .dataframe tbody tr th:only-of-type {\n",
       "        vertical-align: middle;\n",
       "    }\n",
       "\n",
       "    .dataframe tbody tr th {\n",
       "        vertical-align: top;\n",
       "    }\n",
       "\n",
       "    .dataframe thead th {\n",
       "        text-align: right;\n",
       "    }\n",
       "</style>\n",
       "<table border=\"1\" class=\"dataframe\">\n",
       "  <thead>\n",
       "    <tr style=\"text-align: right;\">\n",
       "      <th></th>\n",
       "      <th>Passengers</th>\n",
       "      <th>Passenger Miles</th>\n",
       "      <th>Parent Airline</th>\n",
       "    </tr>\n",
       "  </thead>\n",
       "  <tbody>\n",
       "    <tr>\n",
       "      <th>0</th>\n",
       "      <td>144637180</td>\n",
       "      <td>116,627,136,731</td>\n",
       "      <td>Southwest Airlines Co. Total</td>\n",
       "    </tr>\n",
       "    <tr>\n",
       "      <th>1</th>\n",
       "      <td>137916298</td>\n",
       "      <td>186,140,690,281</td>\n",
       "      <td>Delta Air Lines Inc. Total</td>\n",
       "    </tr>\n",
       "    <tr>\n",
       "      <th>2</th>\n",
       "      <td>118541411</td>\n",
       "      <td>166,869,071,222</td>\n",
       "      <td>American Airlines Inc. Total</td>\n",
       "    </tr>\n",
       "    <tr>\n",
       "      <th>3</th>\n",
       "      <td>95028877</td>\n",
       "      <td>182,508,547,016</td>\n",
       "      <td>United Air Lines Inc. Total</td>\n",
       "    </tr>\n",
       "    <tr>\n",
       "      <th>4</th>\n",
       "      <td>35130683</td>\n",
       "      <td>41,726,258,863</td>\n",
       "      <td>JetBlue Airways Total</td>\n",
       "    </tr>\n",
       "  </tbody>\n",
       "</table>\n",
       "</div>"
      ],
      "text/plain": [
       "  Passengers    Passenger Miles                Parent Airline\n",
       "0  144637180   116,627,136,731   Southwest Airlines Co. Total\n",
       "1  137916298   186,140,690,281     Delta Air Lines Inc. Total\n",
       "2  118541411   166,869,071,222   American Airlines Inc. Total\n",
       "3   95028877   182,508,547,016    United Air Lines Inc. Total\n",
       "4   35130683    41,726,258,863          JetBlue Airways Total"
      ]
     },
     "execution_count": 72,
     "metadata": {},
     "output_type": "execute_result"
    }
   ],
   "source": [
    "clean_passenger_data_df['Passengers'] = clean_passenger_data_df['Passengers'].str.replace(',', '')\n",
    "clean_passenger_data_df.head()"
   ]
  },
  {
   "cell_type": "code",
   "execution_count": 73,
   "metadata": {},
   "outputs": [
    {
     "data": {
      "text/html": [
       "<div>\n",
       "<style scoped>\n",
       "    .dataframe tbody tr th:only-of-type {\n",
       "        vertical-align: middle;\n",
       "    }\n",
       "\n",
       "    .dataframe tbody tr th {\n",
       "        vertical-align: top;\n",
       "    }\n",
       "\n",
       "    .dataframe thead th {\n",
       "        text-align: right;\n",
       "    }\n",
       "</style>\n",
       "<table border=\"1\" class=\"dataframe\">\n",
       "  <thead>\n",
       "    <tr style=\"text-align: right;\">\n",
       "      <th></th>\n",
       "      <th>Passengers</th>\n",
       "      <th>Passenger Miles</th>\n",
       "      <th>Parent Airline</th>\n",
       "    </tr>\n",
       "  </thead>\n",
       "  <tbody>\n",
       "    <tr>\n",
       "      <th>0</th>\n",
       "      <td>144637180</td>\n",
       "      <td>116627136731</td>\n",
       "      <td>Southwest Airlines Co. Total</td>\n",
       "    </tr>\n",
       "    <tr>\n",
       "      <th>1</th>\n",
       "      <td>137916298</td>\n",
       "      <td>186140690281</td>\n",
       "      <td>Delta Air Lines Inc. Total</td>\n",
       "    </tr>\n",
       "    <tr>\n",
       "      <th>2</th>\n",
       "      <td>118541411</td>\n",
       "      <td>166869071222</td>\n",
       "      <td>American Airlines Inc. Total</td>\n",
       "    </tr>\n",
       "    <tr>\n",
       "      <th>3</th>\n",
       "      <td>95028877</td>\n",
       "      <td>182508547016</td>\n",
       "      <td>United Air Lines Inc. Total</td>\n",
       "    </tr>\n",
       "    <tr>\n",
       "      <th>4</th>\n",
       "      <td>35130683</td>\n",
       "      <td>41726258863</td>\n",
       "      <td>JetBlue Airways Total</td>\n",
       "    </tr>\n",
       "  </tbody>\n",
       "</table>\n",
       "</div>"
      ],
      "text/plain": [
       "  Passengers Passenger Miles                Parent Airline\n",
       "0  144637180   116627136731   Southwest Airlines Co. Total\n",
       "1  137916298   186140690281     Delta Air Lines Inc. Total\n",
       "2  118541411   166869071222   American Airlines Inc. Total\n",
       "3   95028877   182508547016    United Air Lines Inc. Total\n",
       "4   35130683    41726258863          JetBlue Airways Total"
      ]
     },
     "execution_count": 73,
     "metadata": {},
     "output_type": "execute_result"
    }
   ],
   "source": [
    "clean_passenger_data_df['Passenger Miles'] = clean_passenger_data_df['Passenger Miles'].str.replace(',', '')\n",
    "clean_passenger_data_df.head()"
   ]
  },
  {
   "cell_type": "code",
   "execution_count": 74,
   "metadata": {
    "scrolled": true
   },
   "outputs": [
    {
     "data": {
      "text/plain": [
       "Passengers         object\n",
       "Passenger Miles     int64\n",
       "Parent Airline     object\n",
       "dtype: object"
      ]
     },
     "execution_count": 74,
     "metadata": {},
     "output_type": "execute_result"
    }
   ],
   "source": [
    "clean_passenger_data_df['Passenger Miles'] = clean_passenger_data_df['Passenger Miles'].astype(str).astype(int)\n",
    "clean_passenger_data_df.dtypes"
   ]
  },
  {
   "cell_type": "code",
   "execution_count": 82,
   "metadata": {},
   "outputs": [
    {
     "data": {
      "text/html": [
       "<div>\n",
       "<style scoped>\n",
       "    .dataframe tbody tr th:only-of-type {\n",
       "        vertical-align: middle;\n",
       "    }\n",
       "\n",
       "    .dataframe tbody tr th {\n",
       "        vertical-align: top;\n",
       "    }\n",
       "\n",
       "    .dataframe thead th {\n",
       "        text-align: right;\n",
       "    }\n",
       "</style>\n",
       "<table border=\"1\" class=\"dataframe\">\n",
       "  <thead>\n",
       "    <tr style=\"text-align: right;\">\n",
       "      <th></th>\n",
       "      <th>Passengers</th>\n",
       "      <th>Passenger Miles</th>\n",
       "      <th>Parent Airline</th>\n",
       "    </tr>\n",
       "  </thead>\n",
       "  <tbody>\n",
       "    <tr>\n",
       "      <th>0</th>\n",
       "      <td>144637180</td>\n",
       "      <td>116627136731</td>\n",
       "      <td>Southwest Airlines Co. Total</td>\n",
       "    </tr>\n",
       "    <tr>\n",
       "      <th>1</th>\n",
       "      <td>137916298</td>\n",
       "      <td>186140690281</td>\n",
       "      <td>Delta Air Lines Inc. Total</td>\n",
       "    </tr>\n",
       "    <tr>\n",
       "      <th>2</th>\n",
       "      <td>118541411</td>\n",
       "      <td>166869071222</td>\n",
       "      <td>American Airlines Inc. Total</td>\n",
       "    </tr>\n",
       "    <tr>\n",
       "      <th>3</th>\n",
       "      <td>95028877</td>\n",
       "      <td>182508547016</td>\n",
       "      <td>United Air Lines Inc. Total</td>\n",
       "    </tr>\n",
       "    <tr>\n",
       "      <th>4</th>\n",
       "      <td>35130683</td>\n",
       "      <td>41726258863</td>\n",
       "      <td>JetBlue Airways Total</td>\n",
       "    </tr>\n",
       "    <tr>\n",
       "      <th>5</th>\n",
       "      <td>30078314</td>\n",
       "      <td>16965403368</td>\n",
       "      <td>SkyWest Airlines Inc. Total</td>\n",
       "    </tr>\n",
       "    <tr>\n",
       "      <th>6</th>\n",
       "      <td>28269616</td>\n",
       "      <td>32330747593</td>\n",
       "      <td>US Airways Inc. Total</td>\n",
       "    </tr>\n",
       "    <tr>\n",
       "      <th>7</th>\n",
       "      <td>26002874</td>\n",
       "      <td>12683188091</td>\n",
       "      <td>ExpressJet Airlines Inc. Total</td>\n",
       "    </tr>\n",
       "    <tr>\n",
       "      <th>8</th>\n",
       "      <td>22868140</td>\n",
       "      <td>30301282863</td>\n",
       "      <td>Alaska Airlines Inc. Total</td>\n",
       "    </tr>\n",
       "    <tr>\n",
       "      <th>9</th>\n",
       "      <td>17629033</td>\n",
       "      <td>17944023815</td>\n",
       "      <td>Spirit Air Lines Total</td>\n",
       "    </tr>\n",
       "  </tbody>\n",
       "</table>\n",
       "</div>"
      ],
      "text/plain": [
       "  Passengers  Passenger Miles                  Parent Airline\n",
       "0  144637180     116627136731    Southwest Airlines Co. Total\n",
       "1  137916298     186140690281      Delta Air Lines Inc. Total\n",
       "2  118541411     166869071222    American Airlines Inc. Total\n",
       "3   95028877     182508547016     United Air Lines Inc. Total\n",
       "4   35130683      41726258863           JetBlue Airways Total\n",
       "5   30078314      16965403368     SkyWest Airlines Inc. Total\n",
       "6   28269616      32330747593           US Airways Inc. Total\n",
       "7   26002874      12683188091  ExpressJet Airlines Inc. Total\n",
       "8   22868140      30301282863      Alaska Airlines Inc. Total\n",
       "9   17629033      17944023815          Spirit Air Lines Total"
      ]
     },
     "execution_count": 82,
     "metadata": {},
     "output_type": "execute_result"
    }
   ],
   "source": [
    "clean_passenger_data_df['Passengers'].sort_values(ascending=False)\n",
    "clean_passenger_data_df.head(10)"
   ]
  },
  {
   "cell_type": "code",
   "execution_count": 76,
   "metadata": {},
   "outputs": [],
   "source": [
    "# CONNECT TO LOCAL DATABASE"
   ]
  },
  {
   "cell_type": "code",
   "execution_count": 77,
   "metadata": {},
   "outputs": [],
   "source": [
    "connection_string = f\"{config.user}:{config.pw}@localhost:5432/airlines_db\"\n",
    "engine = create_engine(f'postgresql://{connection_string}')"
   ]
  },
  {
   "cell_type": "code",
   "execution_count": 78,
   "metadata": {},
   "outputs": [
    {
     "data": {
      "text/plain": [
       "[]"
      ]
     },
     "execution_count": 78,
     "metadata": {},
     "output_type": "execute_result"
    }
   ],
   "source": [
    "engine.table_names()"
   ]
  },
  {
   "cell_type": "code",
   "execution_count": 81,
   "metadata": {
    "scrolled": true
   },
   "outputs": [],
   "source": [
    "clean_passenger_data_df.to_sql(name='passenger_name', con=engine, if_exists='append', index=False)"
   ]
  },
  {
   "cell_type": "code",
   "execution_count": 83,
   "metadata": {},
   "outputs": [
    {
     "data": {
      "text/html": [
       "<div>\n",
       "<style scoped>\n",
       "    .dataframe tbody tr th:only-of-type {\n",
       "        vertical-align: middle;\n",
       "    }\n",
       "\n",
       "    .dataframe tbody tr th {\n",
       "        vertical-align: top;\n",
       "    }\n",
       "\n",
       "    .dataframe thead th {\n",
       "        text-align: right;\n",
       "    }\n",
       "</style>\n",
       "<table border=\"1\" class=\"dataframe\">\n",
       "  <thead>\n",
       "    <tr style=\"text-align: right;\">\n",
       "      <th></th>\n",
       "      <th>Passengers</th>\n",
       "      <th>Passenger Miles</th>\n",
       "      <th>Parent Airline</th>\n",
       "    </tr>\n",
       "  </thead>\n",
       "  <tbody>\n",
       "    <tr>\n",
       "      <th>0</th>\n",
       "      <td>144637180</td>\n",
       "      <td>116627136731</td>\n",
       "      <td>Southwest Airlines Co. Total</td>\n",
       "    </tr>\n",
       "    <tr>\n",
       "      <th>1</th>\n",
       "      <td>137916298</td>\n",
       "      <td>186140690281</td>\n",
       "      <td>Delta Air Lines Inc. Total</td>\n",
       "    </tr>\n",
       "    <tr>\n",
       "      <th>2</th>\n",
       "      <td>118541411</td>\n",
       "      <td>166869071222</td>\n",
       "      <td>American Airlines Inc. Total</td>\n",
       "    </tr>\n",
       "    <tr>\n",
       "      <th>3</th>\n",
       "      <td>95028877</td>\n",
       "      <td>182508547016</td>\n",
       "      <td>United Air Lines Inc. Total</td>\n",
       "    </tr>\n",
       "    <tr>\n",
       "      <th>4</th>\n",
       "      <td>35130683</td>\n",
       "      <td>41726258863</td>\n",
       "      <td>JetBlue Airways Total</td>\n",
       "    </tr>\n",
       "  </tbody>\n",
       "</table>\n",
       "</div>"
      ],
      "text/plain": [
       "  Passengers  Passenger Miles                Parent Airline\n",
       "0  144637180     116627136731  Southwest Airlines Co. Total\n",
       "1  137916298     186140690281    Delta Air Lines Inc. Total\n",
       "2  118541411     166869071222  American Airlines Inc. Total\n",
       "3   95028877     182508547016   United Air Lines Inc. Total\n",
       "4   35130683      41726258863         JetBlue Airways Total"
      ]
     },
     "execution_count": 83,
     "metadata": {},
     "output_type": "execute_result"
    }
   ],
   "source": [
    "pd.read_sql_query('select * from passenger_name', con=engine).head()"
   ]
  }
 ],
 "metadata": {
  "kernelspec": {
   "display_name": "Python 3",
   "language": "python",
   "name": "python3"
  },
  "language_info": {
   "codemirror_mode": {
    "name": "ipython",
    "version": 3
   },
   "file_extension": ".py",
   "mimetype": "text/x-python",
   "name": "python",
   "nbconvert_exporter": "python",
   "pygments_lexer": "ipython3",
   "version": "3.6.8"
  }
 },
 "nbformat": 4,
 "nbformat_minor": 2
}
